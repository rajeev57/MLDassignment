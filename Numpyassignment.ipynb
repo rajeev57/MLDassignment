{
 "cells": [
  {
   "cell_type": "code",
   "execution_count": 65,
   "metadata": {},
   "outputs": [],
   "source": [
    "import numpy as np"
   ]
  },
  {
   "cell_type": "code",
   "execution_count": null,
   "metadata": {},
   "outputs": [],
   "source": []
  },
  {
   "cell_type": "markdown",
   "metadata": {},
   "source": [
    "1. Write a function so that the columns of the output matrix are powers of the input vector.\n",
    "   The order of the powers is determined by the increasing boolean argument. Specifically, when\n",
    "   increasing is False, the i-th output column is the input vector raised element-wise to the power of N - i - 1."
   ]
  },
  {
   "cell_type": "markdown",
   "metadata": {},
   "source": [
    "HINT: Such a matrix with a geometric progression in each row is named for Alexandre-Theophile Vandermonde."
   ]
  },
  {
   "cell_type": "code",
   "execution_count": 23,
   "metadata": {},
   "outputs": [],
   "source": [
    "vector1=np.array([1,2,4,5])\n",
    "N=3"
   ]
  },
  {
   "cell_type": "code",
   "execution_count": 33,
   "metadata": {},
   "outputs": [],
   "source": [
    "def gen_vander_matrix(vector1, N, increasing):\n",
    "    \n",
    "    if not increasing:\n",
    "        op_matx = np.array([x**(N-1-i) for x in vector1 for i in range(N)]).reshape(vector1.size,N)\n",
    "    else:\n",
    "        op_matx = np.array([x**i for x in vector1 for i in range(N)]).reshape(vector1.size,N)\n",
    "    \n",
    "    return op_matx"
   ]
  },
  {
   "cell_type": "code",
   "execution_count": 41,
   "metadata": {},
   "outputs": [
    {
     "name": "stdout",
     "output_type": "stream",
     "text": [
      "vander matrix in decreasing order \n",
      " [[ 1  1  1]\n",
      " [ 4  2  1]\n",
      " [16  4  1]\n",
      " [25  5  1]]\n"
     ]
    }
   ],
   "source": [
    "print(\"vander matrix in decreasing order \\n\",gen_vander_matrix(vector1,N,False))"
   ]
  },
  {
   "cell_type": "code",
   "execution_count": 40,
   "metadata": {},
   "outputs": [
    {
     "name": "stdout",
     "output_type": "stream",
     "text": [
      "vander matirx in increasing order \n",
      " [[ 1  1  1]\n",
      " [ 1  2  4]\n",
      " [ 1  4 16]\n",
      " [ 1  5 25]]\n"
     ]
    }
   ],
   "source": [
    "print(\"vander matirx in increasing order \\n\",gen_vander_matrix(vector1,N,True))"
   ]
  },
  {
   "cell_type": "code",
   "execution_count": null,
   "metadata": {},
   "outputs": [],
   "source": [
    "2. Given a sequence of n values x1, x2, ..., xn and a window size k>0, the k-th moving average of\n",
    "   the given sequence is defined as follows:\n",
    "   The moving average sequence has n-k+1 elements as shown below.\n",
    "   The moving averages with k=4 of a ten-value sequence (n=10) is shown below\n",
    "   i 1 2 3 4 5 6 7 8 9 10\n",
    "   ===== == == == == == == == == == ==\n",
    "   Input 10 20 30 40 50 60 70 80 90 100\n",
    "   y1 25 = (10+20+30+40)/4\n",
    "   y2 35 = (20+30+40+50)/4\n",
    "   y3 45 = (30+40+50+60)/4\n",
    "   y4 55 = (40+50+60+70)/4\n",
    "   y5 65 = (50+60+70+80)/4\n",
    "   y6 75 = (60+70+80+90)/4\n",
    "   y7 85 = (70+80+90+100)/4\n",
    "   Thus, the moving average sequence has n-k+1=10-4+1=7 values.\n",
    "   Write a function to find moving average in an array over a window:\n",
    "   Test it over [3, 5, 7, 2, 8, 10, 11, 65, 72, 81, 99, 100, 150] and window of 3."
   ]
  },
  {
   "cell_type": "code",
   "execution_count": 107,
   "metadata": {},
   "outputs": [
    {
     "name": "stdout",
     "output_type": "stream",
     "text": [
      "k th moving averge of the given seq:- \n",
      " [  5.     4.67   5.67   6.67   9.67  28.67  49.33  72.67  84.    93.33\n",
      " 116.33]\n"
     ]
    }
   ],
   "source": [
    "def movingavg(x,k):\n",
    "    z=len(x)-k+1\n",
    "    ls=[]\n",
    "    for n in range(z):\n",
    "        avg=0\n",
    "        sum1=0\n",
    "        for i in range(k):\n",
    "            sum1=sum1+x[n+i]\n",
    "            avg=sum1/k\n",
    "        ls.append(avg)\n",
    "    return ls\n",
    "x=[3, 5, 7, 2, 8, 10, 11, 65, 72, 81, 99, 100, 150]\n",
    "k=3\n",
    "print(\"k th moving averge of the given seq:- \\n\",np.array(movingavg(x,k)).round(2))"
   ]
  },
  {
   "cell_type": "markdown",
   "metadata": {},
   "source": [
    "method 2:- using the numpy\n",
    "        cumsum function used for find the commulative sum"
   ]
  },
  {
   "cell_type": "code",
   "execution_count": null,
   "metadata": {},
   "outputs": [],
   "source": [
    "  Write a function to find moving average in an array over a window:\n",
    "  Test it over [3, 5, 7, 2, 8, 10, 11, 65, 72, 81, 99, 100, 150] and window of 3."
   ]
  },
  {
   "cell_type": "code",
   "execution_count": 109,
   "metadata": {},
   "outputs": [
    {
     "name": "stdout",
     "output_type": "stream",
     "text": [
      "[  5.     4.67   5.67   6.67   9.67  28.67  49.33  72.67  84.    93.33\n",
      " 116.33]\n"
     ]
    }
   ],
   "source": [
    "def moving_average(a,n) :\n",
    "    ret = np.cumsum(a, dtype=float)\n",
    "    ret[n:] = ret[n:] - ret[:-n]\n",
    "    return ret[n - 1:] / n\n",
    "\n",
    "print(np.array(moving_average(x, n=3)).round(2))"
   ]
  },
  {
   "cell_type": "code",
   "execution_count": null,
   "metadata": {},
   "outputs": [],
   "source": []
  }
 ],
 "metadata": {
  "kernelspec": {
   "display_name": "Python 3",
   "language": "python",
   "name": "python3"
  },
  "language_info": {
   "codemirror_mode": {
    "name": "ipython",
    "version": 3
   },
   "file_extension": ".py",
   "mimetype": "text/x-python",
   "name": "python",
   "nbconvert_exporter": "python",
   "pygments_lexer": "ipython3",
   "version": "3.7.6"
  }
 },
 "nbformat": 4,
 "nbformat_minor": 4
}
